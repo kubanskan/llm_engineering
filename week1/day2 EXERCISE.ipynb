{
 "cells": [
  {
   "cell_type": "markdown",
   "id": "d15d8294-3328-4e07-ad16-8a03e9bbfdb9",
   "metadata": {},
   "source": [
    "# Welcome to your first assignment!\n",
    "\n",
    "Instructions are below. Please give this a try, and look in the solutions folder if you get stuck (or feel free to ask me!)"
   ]
  },
  {
   "cell_type": "markdown",
   "id": "6e9fa1fc-eac5-4d1d-9be4-541b3f2b3458",
   "metadata": {},
   "source": [
    "# HOMEWORK EXERCISE ASSIGNMENT\n",
    "\n",
    "Upgrade the day 1 project to summarize a webpage to use an Open Source model running locally via Ollama rather than OpenAI\n",
    "\n",
    "You'll be able to use this technique for all subsequent projects if you'd prefer not to use paid APIs.\n",
    "\n",
    "**Benefits:**\n",
    "1. No API charges - open-source\n",
    "2. Data doesn't leave your box\n",
    "\n",
    "**Disadvantages:**\n",
    "1. Significantly less power than Frontier Model\n"
   ]
  },
  {
   "cell_type": "code",
   "execution_count": 1,
   "id": "4e2a9393-7767-488e-a8bf-27c12dca35bd",
   "metadata": {},
   "outputs": [],
   "source": [
    "import requests\n",
    "from bs4 import BeautifulSoup\n",
    "from IPython.display import Markdown, display"
   ]
  },
  {
   "cell_type": "code",
   "execution_count": 2,
   "id": "29ddd15d-a3c5-4f4e-a678-873f56162724",
   "metadata": {},
   "outputs": [],
   "source": [
    "# Constants\n",
    "\n",
    "OLLAMA_API = \"http://localhost:11434/api/chat\"\n",
    "HEADERS = {\"Content-Type\": \"application/json\"}\n",
    "MODEL = \"llama3.2\""
   ]
  },
  {
   "cell_type": "code",
   "execution_count": 3,
   "id": "dac0a679-599c-441f-9bf2-ddc73d35b940",
   "metadata": {},
   "outputs": [],
   "source": [
    "\n",
    "\n",
    "messages = [\n",
    "    {\"role\": \"user\", \"content\": \"Describe some of the business applications of Generative AI\"}\n",
    "]"
   ]
  },
  {
   "cell_type": "code",
   "execution_count": 4,
   "id": "7bb9c624-14f0-4945-a719-8ddb64f66f47",
   "metadata": {},
   "outputs": [],
   "source": [
    "payload = {\n",
    "        \"model\": MODEL,\n",
    "        \"messages\": messages,\n",
    "        \"stream\": False\n",
    "    }"
   ]
  },
  {
   "cell_type": "code",
   "execution_count": 5,
   "id": "42b9f644-522d-4e05-a691-56e7658c0ea9",
   "metadata": {},
   "outputs": [
    {
     "name": "stdout",
     "output_type": "stream",
     "text": [
      "Generative AI has numerous business applications across various industries, including:\n",
      "\n",
      "1. **Content Creation**: AI-powered tools can generate high-quality content such as articles, social media posts, product descriptions, and even entire books. This can help businesses save time and resources while maintaining consistency in their content.\n",
      "2. **Marketing and Advertising**: Generative AI can create personalized ads, product recommendations, and marketing campaigns that are tailored to individual customers' preferences. It can also analyze customer data to predict buying behavior and optimize marketing strategies.\n",
      "3. **Product Design and Development**: AI-powered generative design tools can create 2D and 3D designs for products such as furniture, electronics, and automotive components. This can help businesses reduce design time and costs while improving product quality.\n",
      "4. **Customer Service and Support**: Chatbots powered by Generative AI can provide personalized customer support, answering frequently asked questions, and helping customers with simple queries.\n",
      "5. **Data Analysis and Visualization**: Generative AI can generate insights from large datasets, creating visualizations that help businesses identify patterns and trends in their data.\n",
      "6. **Personalized Recommendations**: AI-powered recommendation systems can suggest products or services to customers based on their past behavior, preferences, and interests.\n",
      "7. **Language Translation**: Generative AI-powered language translation tools can translate text, audio, and even video content into various languages, breaking down language barriers for businesses.\n",
      "8. **Audio and Music Generation**: AI-powered music composition tools can create original music tracks, sound effects, and audio loops for businesses, such as film studios, advertisers, and game developers.\n",
      "9. **Creative Writing and Storytelling**: Generative AI can generate short stories, poetry, or even entire scripts for films, TV shows, or video games.\n",
      "10. **Security and Authentication**: Generative AI-powered tools can create secure encryption methods, analyze biometric data, and identify potential security threats.\n",
      "\n",
      "Some specific examples of businesses that are already leveraging Generative AI include:\n",
      "\n",
      "* **Amazon**: Uses Generative AI to personalize product recommendations and customer service experiences.\n",
      "* **Walmart**: Employs Generative AI to generate personalized ads and marketing campaigns.\n",
      "* **Toyota**: Utilizes Generative AI for designing and developing new car models, reducing design time by 70%.\n",
      "* **Nike**: Leverages Generative AI to create customized shoe designs and optimize production workflows.\n",
      "\n",
      "These are just a few examples of the many businesses that are already harnessing the power of Generative AI to improve efficiency, creativity, and customer experiences.\n"
     ]
    }
   ],
   "source": [
    "response = requests.post(OLLAMA_API, json=payload, headers=HEADERS)\n",
    "print(response.json()['message']['content'])"
   ]
  },
  {
   "cell_type": "markdown",
   "id": "6a021f13-d6a1-4b96-8e18-4eae49d876fe",
   "metadata": {},
   "source": [
    "# Introducing the ollama package\n",
    "\n",
    "And now we'll do the same thing, but using the elegant ollama python package instead of a direct HTTP call.\n",
    "\n",
    "Under the hood, it's making the same call as above to the ollama server running at localhost:11434"
   ]
  },
  {
   "cell_type": "code",
   "execution_count": 6,
   "id": "7745b9c4-57dc-4867-9180-61fa5db55eb8",
   "metadata": {},
   "outputs": [
    {
     "name": "stdout",
     "output_type": "stream",
     "text": [
      "Generative AI has numerous business applications across various industries, including:\n",
      "\n",
      "1. **Content Generation**: AI can generate high-quality content such as articles, social media posts, product descriptions, and even entire books. This helps reduce content creation costs and increases productivity.\n",
      "2. **Image and Video Creation**: Generative AI can create realistic images and videos for advertising, marketing, and entertainment purposes. This technology is being used to generate custom product visuals, avatars, and even synthetic celebrities.\n",
      "3. **Chatbots and Virtual Assistants**: AI-powered chatbots can help businesses provide 24/7 customer support, answer frequently asked questions, and offer personalized recommendations.\n",
      "4. **Product Design and Development**: Generative AI can assist in the design of products such as cars, planes, and buildings by generating concept designs, optimizing structures, and reducing material usage.\n",
      "5. **Music and Audio Creation**: AI can generate music, sound effects, and audio loops for film, television, and advertising productions.\n",
      "6. **Data Analysis and Visualization**: Generative AI can help businesses analyze and visualize complex data sets, identify patterns, and predict trends.\n",
      "7. **Predictive Maintenance**: AI-powered predictive maintenance uses machine learning algorithms to detect equipment failures, optimize maintenance schedules, and reduce downtime.\n",
      "8. **Marketing Personalization**: Generative AI can create personalized product recommendations, advertisements, and content based on individual customer behavior and preferences.\n",
      "9. **Supply Chain Optimization**: AI can analyze supply chain data, identify bottlenecks, and recommend optimization strategies to improve efficiency and reduce costs.\n",
      "10. **Cybersecurity**: Generative AI can help businesses detect and respond to cyber threats by analyzing network traffic, identifying patterns, and predicting attack vectors.\n",
      "\n",
      "Some specific business use cases include:\n",
      "\n",
      "* **Amazon's Alexa**: Amazon uses generative AI to create conversational interfaces for its smart speakers.\n",
      "* **Google's Bard**: Google's new language model uses generative AI to generate human-like text responses.\n",
      "* **Burberry's Digital Fashion Studio**: Burberry uses generative AI to design and produce digital fashion collections.\n",
      "* **IKEA's Product Design Tool**: IKEA uses generative AI to design and optimize product prototypes.\n",
      "\n",
      "These are just a few examples of the many business applications of Generative AI. As this technology continues to evolve, we can expect to see even more innovative use cases across various industries.\n"
     ]
    }
   ],
   "source": [
    "import ollama\n",
    "\n",
    "response = ollama.chat(model=MODEL, messages=messages)\n",
    "print(response['message']['content'])"
   ]
  },
  {
   "cell_type": "markdown",
   "id": "a4704e10-f5fb-4c15-a935-f046c06fb13d",
   "metadata": {},
   "source": [
    "## Alternative approach - using OpenAI python library to connect to Ollama"
   ]
  },
  {
   "cell_type": "code",
   "execution_count": 7,
   "id": "23057e00-b6fc-4678-93a9-6b31cb704bff",
   "metadata": {},
   "outputs": [
    {
     "name": "stdout",
     "output_type": "stream",
     "text": [
      "Generative Artificial Intelligence (AI) has numerous business applications across various industries. Here are some examples:\n",
      "\n",
      "1. **Content Generation**: Generative AI can create high-quality content, such as articles, social media posts, and product descriptions, at scale and speed. This reduces the reliance on human writers and allows businesses to produce more content without increasing costs.\n",
      "2. **Product Design**: Generative AI algorithms can design products quickly and efficiently, using computer-aided design (CAD) software and other tools. This enables businesses to develop new products or modify existing ones without significant investment in hardware and infrastructure.\n",
      "3. **Marketing Campaigns**: Generative AI can analyze customer data, identify trends, and create personalized marketing campaigns. It can also generate ads, social media posts, and promotional materials, making it easier for businesses to tailor their marketing efforts.\n",
      "4. **Image and Video Generation**: Generative AI can create high-quality images and videos from scratch or by processing existing content. This has applications in fields like advertising (e.g., product showcases), entertainment (e.g., music and movie trailers), and education (e.g., interactive tutorials).\n",
      "5. **Chatbots and Customer Service**: Generative AI can power chatbots that understand natural language, respond to customer queries, and resolve issues efficiently. This enhances the overall customer experience, increasing customer satisfaction and improving operational efficiency.\n",
      "6. **Speech Recognition and Synthesis**: Generative AI algorithms can recognize and generate human speech, enabling applications such as voice assistants (e.g., Alexa), transcription services, and even robotic communication systems.\n",
      "7. **Network Analysis**: Generative AI can analyze network traffic patterns, identify potential threats, and optimize network performance. This helps organizations maintain secure and efficient networks.\n",
      "8. **Recommendation Systems**: Generative AI can generate personalized product recommendations for customers by analyzing their behavior, preferences, and purchases. This boosts customer engagement and increases sales.\n",
      "9. **Data Analysis and Visualization**: Generative AI algorithms can handle complex data sets and distill insights from them into visualizations that help businesses identify trends, patterns, and correlations.\n",
      "10. **Predictive Maintenance**: Generative AI can predict equipment failure or required maintenance by analyzing sensor data, operational metrics, and other factors. This enables proactive maintenance scheduling, reducing downtime and increasing efficiency.\n",
      "\n",
      "Some industries where generative AI is particularly valuable include:\n",
      "\n",
      "   – Finance: Credit risk assessment, portfolio optimization\n",
      "   – Retail: Product recommendations, marketing campaigns\n",
      "   – Healthcare: Medical diagnostics, personalized treatment predictions\n",
      "   – Manufacturing: Predictive maintenance, supply chain optimization\n",
      "\n",
      "The applications of Generative AI are vast and rapidly expanding as technology advances.\n"
     ]
    }
   ],
   "source": [
    "# There's actually an alternative approach that some people might prefer\n",
    "# You can use the OpenAI client python library to call Ollama:\n",
    "\n",
    "from openai import OpenAI\n",
    "ollama_via_openai = OpenAI(base_url='http://localhost:11434/v1', api_key='ollama')\n",
    "\n",
    "response = ollama_via_openai.chat.completions.create(\n",
    "    model=MODEL,\n",
    "    messages=messages\n",
    ")\n",
    "\n",
    "print(response.choices[0].message.content)"
   ]
  },
  {
   "cell_type": "markdown",
   "id": "9f9e22da-b891-41f6-9ac9-bd0c0a5f4f44",
   "metadata": {},
   "source": [
    "## Are you confused about why that works?\n",
    "\n",
    "It seems strange, right? We just used OpenAI code to call Ollama?? What's going on?!\n",
    "\n",
    "Here's the scoop:\n",
    "\n",
    "The python class `OpenAI` is simply code written by OpenAI engineers that makes calls over the internet to an endpoint.  \n",
    "\n",
    "When you call `openai.chat.completions.create()`, this python code just makes a web request to the following url: \"https://api.openai.com/v1/chat/completions\"\n",
    "\n",
    "Code like this is known as a \"client library\" - it's just wrapper code that runs on your machine to make web requests. The actual power of GPT is running on OpenAI's cloud behind this API, not on your computer!\n",
    "\n",
    "OpenAI was so popular, that lots of other AI providers provided identical web endpoints, so you could use the same approach.\n",
    "\n",
    "So Ollama has an endpoint running on your local box at http://localhost:11434/v1/chat/completions  \n",
    "And in week 2 we'll discover that lots of other providers do this too, including Gemini and DeepSeek.\n",
    "\n",
    "And then the team at OpenAI had a great idea: they can extend their client library so you can specify a different 'base url', and use their library to call any compatible API.\n",
    "\n",
    "That's it!\n",
    "\n",
    "So when you say: `ollama_via_openai = OpenAI(base_url='http://localhost:11434/v1', api_key='ollama')`  \n",
    "Then this will make the same endpoint calls, but to Ollama instead of OpenAI."
   ]
  },
  {
   "cell_type": "markdown",
   "id": "bc7d1de3-e2ac-46ff-a302-3b4ba38c4c90",
   "metadata": {},
   "source": [
    "## Also trying the amazing reasoning model DeepSeek\n",
    "\n",
    "Here we use the version of DeepSeek-reasoner that's been distilled to 1.5B.  \n",
    "This is actually a 1.5B variant of Qwen that has been fine-tuned using synethic data generated by Deepseek R1.\n",
    "\n",
    "Other sizes of DeepSeek are [here](https://ollama.com/library/deepseek-r1) all the way up to the full 671B parameter version, which would use up 404GB of your drive and is far too large for most!"
   ]
  },
  {
   "cell_type": "code",
   "execution_count": 8,
   "id": "1d3d554b-e00d-4c08-9300-45e073950a76",
   "metadata": {},
   "outputs": [
    {
     "name": "stdout",
     "output_type": "stream",
     "text": [
      "<think>\n",
      "Okay, I need to understand a few key concepts about Large Language Models (LLMs) including neural networks, attention, and transformers. Let me start by breaking down each term step by step.\n",
      "\n",
      "First, neural networks. From what I remember, neural networks are a subset of machine learning models inspired by the structure and function of the human brain's nervous system. They consist of layers of interconnected nodes or \"neurons\" that process information through connections between them. Each node has weights that adjust as part of the learning process. They're used for tasks like image recognition, speech processing, and many others.\n",
      "\n",
      "Now, LLMs build on these neural networks. So a key point is their role in NLP (natural language processing). The models are trained on vast amounts of text data to learn patterns and contexts that allow them to predict or generate new languages.\n",
      "\n",
      "Next up is the attention mechanism. I think this has something to do with how models focus on specific parts of the input when making predictions. In traditional neural networks, all nodes process their inputs independently at each step. But in attention-based models, each node processes a weighted version of its input vector across all tokens. This allows the model to attend (focus) on the most relevant parts of the text.\n",
      "\n",
      "Then there's the transformer. Transformers introduced by学家vaswani and others revolutionized deep learning for NLP. In contrast to traditional neural networks with sequential layers, transformers process sequences in parallel without the sequence dependency. They do this by modeling each token as a vector and using self-attention to weigh connections between all pairs of tokens.\n",
      "\n",
      "The key idea is that transformers enable models to learn long-range dependencies directly from data by utilizing attention across the entire input sequence. Each layer creates new representations through multi-head attention, capturing more complex patterns than simply sequential processing alone.\n",
      "\n",
      "Putting this together, I think an LLM uses a neural network as a general processing module and a transformer within it. The transformer's ability to process sentences in parallel with self-attention allows it to handle long distances between tokens and focus on important information from various parts of the input, which is crucial for tasks like translation or summarization.\n",
      "</think>\n",
      "\n",
      "Large Language Models (LLMs) are advanced machine learning models designed to generate and understand natural language. Here's a breakdown of key concepts that form their foundation:\n",
      "\n",
      "1. **Neural Networks**: These are computational units inspired by the biological neurons in the brain, structured as layers with interconnected nodes called neurons. Each node processes input data through weighted connections that adjust during training.\n",
      "\n",
      "2. **LLMs as Neural Networks**: LLMs use neural networks at their core, trained on vast datasets to learn patterns and contextual information. They process text for tasks like classification, translation, and summarization.\n",
      "\n",
      "3. **Attention Mechanism**: This mechanism enables models to focus on specific parts of input data by assigning weights to each input element during feature extraction. Each token processes a weighted version of its vector across sequences, enhancing model understanding beyond simple processing.\n",
      "\n",
      "4. **Transformer Architecture**: Unlike traditional sequential neural networks, transformers process sequences in parallel without sequence dependency. They use self-attention functions to weigh connections between all pairs of tokens within a sequence, capturing long-range dependencies directly from data.\n",
      "\n",
      "5. **Long-Range Dependencies**: Transformers enable models to handle dependencies across distant tokens by leveraging attention across the entire input sequence. Each layer processes new representations through multi-head attention, which is more efficient than sequential layers in capturing complex patterns.\n",
      "\n",
      "In summary, LLMs leverage a neural network within a transformer architecture. The transformer's parallel processing and self-attention mechanism allow models to process sequences at once, focusing on important information while maintaining long-range context, essential for tasks like translation, summarization, and text generation.\n"
     ]
    }
   ],
   "source": [
    "# This may take a few minutes to run! You should then see a fascinating \"thinking\" trace inside <think> tags, followed by some decent definitions\n",
    "\n",
    "response = ollama_via_openai.chat.completions.create(\n",
    "    model=\"deepseek-r1:1.5b\",\n",
    "    messages=[{\"role\": \"user\", \"content\": \"Please give definitions of some core concepts behind LLMs: a neural network, attention and the transformer\"}]\n",
    ")\n",
    "\n",
    "print(response.choices[0].message.content)"
   ]
  },
  {
   "cell_type": "markdown",
   "id": "1622d9bb-5c68-4d4e-9ca4-b492c751f898",
   "metadata": {},
   "source": [
    "# NOW the exercise for you\n",
    "\n",
    "Take the code from day1 and incorporate it here, to build a website summarizer that uses Llama 3.2 running locally instead of OpenAI; use either of the above approaches."
   ]
  },
  {
   "cell_type": "code",
   "execution_count": 9,
   "id": "6de38216-6d1c-48c4-877b-86d403f4e0f8",
   "metadata": {},
   "outputs": [],
   "source": [
    "headers = {\n",
    " \"User-Agent\": \"Mozilla/5.0 (Windows NT 10.0; Win64; x64) AppleWebKit/537.36 (KHTML, like Gecko) Chrome/117.0.0.0 Safari/537.36\"\n",
    "}\n",
    "\n",
    "class Website:\n",
    "\n",
    "    def __init__(self, url):\n",
    "        \"\"\"\n",
    "        Create this Website object from the given url using the BeautifulSoup library\n",
    "        \"\"\"\n",
    "        self.url = url\n",
    "        response = requests.get(url, headers=headers)\n",
    "        soup = BeautifulSoup(response.content, 'html.parser')\n",
    "        self.title = soup.title.string if soup.title else \"No title found\"\n",
    "        for irrelevant in soup.body([\"script\", \"style\", \"img\", \"input\"]):\n",
    "            irrelevant.decompose()\n",
    "        self.text = soup.body.get_text(separator=\"\\n\", strip=True)\n",
    "\n",
    "system_prompt = \"You are an assistant that analyzes the contents of a website \\\n",
    "and provides a short summary, ignoring text that might be navigation related. \\\n",
    "Respond in markdown.\"\n",
    "\n",
    "\n",
    "def user_prompt_for(website):\n",
    "    user_prompt = f\"You are looking at a website titled {website.title}\"\n",
    "    user_prompt += \"\\nThe contents of this website is as follows; \\\n",
    "please provide a short summary of this website in markdown. \\\n",
    "If it includes news or announcements, then summarize these too.\\n\\n\"\n",
    "    user_prompt += website.text\n",
    "    return user_prompt\n",
    "\n",
    "\n",
    "\n",
    "def messages_for(website):\n",
    "    return [\n",
    "        {\"role\": \"system\", \"content\": system_prompt},\n",
    "        {\"role\": \"user\", \"content\": user_prompt_for(website)}\n",
    "    ]"
   ]
  },
  {
   "cell_type": "markdown",
   "id": "51006cac-1b56-4d1e-853d-9442e62a6e23",
   "metadata": {},
   "source": [
    "## Versions"
   ]
  },
  {
   "cell_type": "code",
   "execution_count": 10,
   "id": "788965b7-c5f6-4e10-a77b-5a0a7b44dca2",
   "metadata": {},
   "outputs": [],
   "source": [
    "OLLAMA_API = \"http://localhost:11434/api/chat\"\n",
    "HEADERS = {\"Content-Type\": \"application/json\"}\n",
    "MODEL = \"llama3.2\""
   ]
  },
  {
   "cell_type": "code",
   "execution_count": 11,
   "id": "3b183be1-b3b8-416c-bb2a-b8bbf7b6b4c0",
   "metadata": {},
   "outputs": [],
   "source": [
    "def summarize_1(url):\n",
    "    website = Website(url)\n",
    "    payload = {\n",
    "        \"model\": MODEL,\n",
    "        \"messages\": messages_for(website),\n",
    "        \"stream\": False\n",
    "    }\n",
    "\n",
    "    response = requests.post(OLLAMA_API, json=payload, headers=HEADERS)\n",
    "    return response.json()['message']['content']"
   ]
  },
  {
   "cell_type": "code",
   "execution_count": 12,
   "id": "54b402ed-f859-4392-968a-f75e6b9cca7c",
   "metadata": {},
   "outputs": [
    {
     "data": {
      "text/plain": [
       "'# Website Summary\\n### Home - Edward Donner\\n\\nThe website appears to be a personal blog or portfolio of Edward Donner, the co-founder and CTO of Nebula.io. It covers his interests in writing code, experimenting with Large Language Models (LLMs), DJing, and amateur electronic music production.\\n\\n### News/Announcements\\n\\n*   **Courses:** Edward Donner is offering courses on LLMs and Agentic AI Engineering, including \"Connecting my courses\" and \"The Complete Agentic AI Engineering Course\".\\n*   **Newsletters and Subscriptions:** A newsletter subscription form is available for visitors to receive updates from Edward.\\n*   **Recent Posts:**\\n    *   May 28, 2025 - Connecting my courses\\n    *   May 18, 2025 - 2025 AI Executive Briefing\\n    *   April 21, 2025 - The Complete Agentic AI Engineering Course\\n    *   January 23, 2025 - LLM Workshop – Hands-on with Agents'"
      ]
     },
     "execution_count": 12,
     "metadata": {},
     "output_type": "execute_result"
    }
   ],
   "source": [
    "summarize_1(\"https://edwarddonner.com\")"
   ]
  },
  {
   "cell_type": "code",
   "execution_count": 13,
   "id": "de48c2d0-7968-4d75-b492-f74f05d8f33f",
   "metadata": {},
   "outputs": [],
   "source": [
    "def summarize_2(url):\n",
    "    website = Website(url)\n",
    "    response = ollama.chat(model=MODEL, messages=messages_for(website))\n",
    "    return response['message']['content']"
   ]
  },
  {
   "cell_type": "code",
   "execution_count": 14,
   "id": "d97f02ac-0b98-44bb-8816-6b3ddbf08d37",
   "metadata": {},
   "outputs": [
    {
     "data": {
      "text/plain": [
       "'# Website Summary\\n## Overview\\n\\nThe website is a personal blog written by Edward Donner, the co-founder and CTO of Nebula.io. It appears to be focused on writing, AI, and technology.\\n\\n### Content Highlights\\n\\n*   **LLM Arena**: An arena where Large Language Models (LLMs) compete against each other in diplomacy and strategy games.\\n*   **Talent Acquisition**: Edward discusses his work at Nebula.io, applying AI to help people discover their potential and pursue their goals. The company uses proprietary LLMs for talent matching and has a patented matching model.\\n\\n### Recent News and Announcements\\n\\n*   **Course Announcement**: A new course titled \"Connecting my courses\" is announced.\\n*   **2025 AI Executive Briefing**: An upcoming briefing on AI in 2025.\\n*   **New Course Release**: Another course, \"The Complete Agentic AI Engineering Course,\" is released.\\n*   **LLM Workshop**: A hands-on workshop for learning about agents and LLMs.\\n\\n### Contact Information\\n\\nEdward Donner can be reached at ed [at] edwarddonner [dot] com or followed on LinkedIn, Twitter, and Facebook.'"
      ]
     },
     "execution_count": 14,
     "metadata": {},
     "output_type": "execute_result"
    }
   ],
   "source": [
    "summarize_2(\"https://edwarddonner.com\")"
   ]
  },
  {
   "cell_type": "code",
   "execution_count": 15,
   "id": "5acb69de-38c6-4802-9a70-aebc45b925a4",
   "metadata": {},
   "outputs": [],
   "source": [
    "def summarize_3(url):\n",
    "    website = Website(url)\n",
    "    ollama_via_openai = OpenAI(base_url='http://localhost:11434/v1', api_key='ollama')\n",
    "    response = ollama_via_openai.chat.completions.create(\n",
    "    model=MODEL,\n",
    "    messages=messages_for(website)\n",
    ")\n",
    "    return response.choices[0].message.content"
   ]
  },
  {
   "cell_type": "code",
   "execution_count": 16,
   "id": "96023a0c-5686-43c3-84e4-12d4d209e470",
   "metadata": {},
   "outputs": [
    {
     "data": {
      "text/plain": [
       "'# Website Summary\\n\\nThis website belongs to Edward Donner and appears to be a personal homepage that combines elements of programming, artificial intelligence (AI), and entrepreneurship.\\n\\n## What He Does\\n\\n* Co-founder and CTO of [Nebula.io](https://www.nebulai.com/), applying AI to help people discover their potential.\\n* Previously founded and CEO of AI startup [untapt](https://untapt.artificial-intelligence), which was acquired in 2021.\\n\\n## Announcements and News\\n\\n* **Connecting my courses – become an LLM expert and leader** (May 28, 2025)\\n* **2025 AI Executive Briefing** (April 21, 2025)\\n* **The Complete Agentic AI Engineering Course** (January 23, 2025)\\n* **LLM Workshop – Hands-on with Agents – resources** (date not specified)\\n* **New courses and announcements will be posted as they become available.**'"
      ]
     },
     "execution_count": 16,
     "metadata": {},
     "output_type": "execute_result"
    }
   ],
   "source": [
    "summarize_3(\"https://edwarddonner.com\")"
   ]
  }
 ],
 "metadata": {
  "kernelspec": {
   "display_name": "Python 3 (ipykernel)",
   "language": "python",
   "name": "python3"
  },
  "language_info": {
   "codemirror_mode": {
    "name": "ipython",
    "version": 3
   },
   "file_extension": ".py",
   "mimetype": "text/x-python",
   "name": "python",
   "nbconvert_exporter": "python",
   "pygments_lexer": "ipython3",
   "version": "3.11.13"
  }
 },
 "nbformat": 4,
 "nbformat_minor": 5
}
