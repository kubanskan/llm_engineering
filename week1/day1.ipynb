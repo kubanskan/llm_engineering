{
 "cells": [
  {
   "cell_type": "markdown",
   "id": "d15d8294-3328-4e07-ad16-8a03e9bbfdb9",
   "metadata": {},
   "source": [
    "# FIRST LAB\n",
    "\n",
    "Our goal is to code a new kind of Web Browser. Give it a URL, and it will respond with a summary. The Reader's Digest of the internet!!"
   ]
  },
  {
   "cell_type": "code",
   "execution_count": 1,
   "id": "4e2a9393-7767-488e-a8bf-27c12dca35bd",
   "metadata": {},
   "outputs": [],
   "source": [
    "import os\n",
    "import requests\n",
    "from dotenv import load_dotenv\n",
    "from bs4 import BeautifulSoup\n",
    "from IPython.display import Markdown, display\n",
    "from openai import OpenAI\n",
    "\n"
   ]
  },
  {
   "cell_type": "markdown",
   "id": "6900b2a8-6384-4316-8aaa-5e519fca4254",
   "metadata": {},
   "source": [
    "# Connecting to OpenAI (or Ollama)"
   ]
  },
  {
   "cell_type": "code",
   "execution_count": 2,
   "id": "7b87cadb-d513-4303-baee-a37b6f938e4d",
   "metadata": {},
   "outputs": [
    {
     "name": "stdout",
     "output_type": "stream",
     "text": [
      "API key found and looks good so far!\n"
     ]
    }
   ],
   "source": [
    "load_dotenv(override=True)\n",
    "api_key = os.getenv('OPENAI_API_KEY')\n",
    "\n",
    "if not api_key:\n",
    "    print(\"No API key was found - please head over to the troubleshooting notebook in this folder to identify & fix!\")\n",
    "elif not api_key.startswith(\"sk-proj-\"):\n",
    "    print(\"An API key was found, but it doesn't start sk-proj-; please check you're using the right key - see troubleshooting notebook\")\n",
    "elif api_key.strip() != api_key:\n",
    "    print(\"An API key was found, but it looks like it might have space or tab characters at the start or end - please remove them - see troubleshooting notebook\")\n",
    "else:\n",
    "    print(\"API key found and looks good so far!\")\n"
   ]
  },
  {
   "cell_type": "code",
   "execution_count": 3,
   "id": "019974d9-f3ad-4a8a-b5f9-0a3719aea2d3",
   "metadata": {},
   "outputs": [],
   "source": [
    "openai = OpenAI()"
   ]
  },
  {
   "cell_type": "markdown",
   "id": "442fc84b-0815-4f40-99ab-d9a5da6bda91",
   "metadata": {},
   "source": [
    "# Let's make a quick call to a Frontier model to get started, as a preview!"
   ]
  },
  {
   "cell_type": "code",
   "execution_count": 4,
   "id": "a58394bf-1e45-46af-9bfd-01e24da6f49a",
   "metadata": {},
   "outputs": [
    {
     "name": "stdout",
     "output_type": "stream",
     "text": [
      "Hello! Welcome! I'm glad you're here. How can I assist you today?\n"
     ]
    }
   ],
   "source": [
    "message = \"Hello, GPT! This is my first ever message to you! Hi!\"\n",
    "response = openai.chat.completions.create(model=\"gpt-4o-mini\", messages=[{\"role\":\"user\", \"content\":message}])\n",
    "print(response.choices[0].message.content)"
   ]
  },
  {
   "cell_type": "markdown",
   "id": "2aa190e5-cb31-456a-96cc-db109919cd78",
   "metadata": {},
   "source": [
    "## OK onwards with our first project"
   ]
  },
  {
   "cell_type": "code",
   "execution_count": 5,
   "id": "c5e793b2-6775-426a-a139-4848291d0463",
   "metadata": {},
   "outputs": [],
   "source": [
    "# Some websites need you to use proper headers when fetching them:\n",
    "headers = {\n",
    " \"User-Agent\": \"Mozilla/5.0 (Windows NT 10.0; Win64; x64) AppleWebKit/537.36 (KHTML, like Gecko) Chrome/117.0.0.0 Safari/537.36\"\n",
    "}\n",
    "\n",
    "class Website:\n",
    "\n",
    "    def __init__(self, url):\n",
    "        \"\"\"\n",
    "        Create this Website object from the given url using the BeautifulSoup library\n",
    "        \"\"\"\n",
    "        self.url = url\n",
    "        response = requests.get(url, headers=headers)\n",
    "        soup = BeautifulSoup(response.content, 'html.parser')\n",
    "        self.title = soup.title.string if soup.title else \"No title found\"\n",
    "        for irrelevant in soup.body([\"script\", \"style\", \"img\", \"input\"]):\n",
    "            irrelevant.decompose()\n",
    "        self.text = soup.body.get_text(separator=\"\\n\", strip=True)"
   ]
  },
  {
   "cell_type": "code",
   "execution_count": 6,
   "id": "2ef960cf-6dc2-4cda-afb3-b38be12f4c97",
   "metadata": {},
   "outputs": [
    {
     "name": "stdout",
     "output_type": "stream",
     "text": [
      "Home - Edward Donner\n",
      "Home\n",
      "Connect Four\n",
      "Outsmart\n",
      "An arena that pits LLMs against each other in a battle of diplomacy and deviousness\n",
      "About\n",
      "Posts\n",
      "Well, hi there.\n",
      "I’m Ed. I like writing code and experimenting with LLMs, and hopefully you’re here because you do too. I also enjoy DJing (but I’m badly out of practice), amateur electronic music production (\n",
      "very\n",
      "amateur) and losing myself in\n",
      "Hacker News\n",
      ", nodding my head sagely to things I only half understand.\n",
      "I’m the co-founder and CTO of\n",
      "Nebula.io\n",
      ". We’re applying AI to a field where it can make a massive, positive impact: helping people discover their potential and pursue their reason for being. Recruiters use our product today to source, understand, engage and manage talent. I’m previously the founder and CEO of AI startup untapt,\n",
      "acquired in 2021\n",
      ".\n",
      "We work with groundbreaking, proprietary LLMs verticalized for talent, we’ve\n",
      "patented\n",
      "our matching model, and our award-winning platform has happy customers and tons of press coverage.\n",
      "Connect\n",
      "with me for more!\n",
      "May 28, 2025\n",
      "Connecting my courses – become an LLM expert and leader\n",
      "May 18, 2025\n",
      "2025 AI Executive Briefing\n",
      "April 21, 2025\n",
      "The Complete Agentic AI Engineering Course\n",
      "January 23, 2025\n",
      "LLM Workshop – Hands-on with Agents – resources\n",
      "Navigation\n",
      "Home\n",
      "Connect Four\n",
      "Outsmart\n",
      "An arena that pits LLMs against each other in a battle of diplomacy and deviousness\n",
      "About\n",
      "Posts\n",
      "Get in touch\n",
      "ed [at] edwarddonner [dot] com\n",
      "www.edwarddonner.com\n",
      "Follow me\n",
      "LinkedIn\n",
      "Twitter\n",
      "Facebook\n",
      "Subscribe to newsletter\n",
      "Type your email…\n",
      "Subscribe\n"
     ]
    }
   ],
   "source": [
    "# Let's try one out. Change the website and add print statements to follow along.\n",
    "\n",
    "ed = Website(\"https://edwarddonner.com\")\n",
    "print(ed.title)\n",
    "print(ed.text)"
   ]
  },
  {
   "cell_type": "markdown",
   "id": "6a478a0c-2c53-48ff-869c-4d08199931e1",
   "metadata": {},
   "source": [
    "## Types of prompts\n",
    "\n",
    "You may know this already - but if not, you will get very familiar with it!\n",
    "\n",
    "Models like GPT4o have been trained to receive instructions in a particular way.\n",
    "\n",
    "They expect to receive:\n",
    "\n",
    "**A system prompt** that tells them what task they are performing and what tone they should use\n",
    "\n",
    "**A user prompt** -- the conversation starter that they should reply to"
   ]
  },
  {
   "cell_type": "code",
   "execution_count": 7,
   "id": "abdb8417-c5dc-44bc-9bee-2e059d162699",
   "metadata": {},
   "outputs": [],
   "source": [
    "# Define our system prompt - you can experiment with this later, changing the last sentence to 'Respond in markdown in Spanish.\"\n",
    "\n",
    "system_prompt = \"You are an assistant that analyzes the contents of a website \\\n",
    "and provides a short summary, ignoring text that might be navigation related. \\\n",
    "Respond in markdown.\""
   ]
  },
  {
   "cell_type": "code",
   "execution_count": 8,
   "id": "f0275b1b-7cfe-4f9d-abfa-7650d378da0c",
   "metadata": {},
   "outputs": [],
   "source": [
    "# A function that writes a User Prompt that asks for summaries of websites:\n",
    "\n",
    "def user_prompt_for(website):\n",
    "    user_prompt = f\"You are looking at a website titled {website.title}\"\n",
    "    user_prompt += \"\\nThe contents of this website is as follows; \\\n",
    "please provide a short summary of this website in markdown. \\\n",
    "If it includes news or announcements, then summarize these too.\\n\\n\"\n",
    "    user_prompt += website.text\n",
    "    return user_prompt"
   ]
  },
  {
   "cell_type": "code",
   "execution_count": 9,
   "id": "26448ec4-5c00-4204-baec-7df91d11ff2e",
   "metadata": {},
   "outputs": [],
   "source": [
    "#print(user_prompt_for(ed))"
   ]
  },
  {
   "cell_type": "markdown",
   "id": "ea211b5f-28e1-4a86-8e52-c0b7677cadcc",
   "metadata": {},
   "source": [
    "## Messages\n",
    "\n",
    "The API from OpenAI expects to receive messages in a particular structure.\n",
    "Many of the other APIs share this structure:\n",
    "\n",
    "```python\n",
    "[\n",
    "    {\"role\": \"system\", \"content\": \"system message goes here\"},\n",
    "    {\"role\": \"user\", \"content\": \"user message goes here\"}\n",
    "]\n",
    "```\n",
    "To give you a preview, the next 2 cells make a rather simple call - we won't stretch the mighty GPT (yet!)"
   ]
  },
  {
   "cell_type": "markdown",
   "id": "d06e8d78-ce4c-4b05-aa8e-17050c82bb47",
   "metadata": {},
   "source": [
    "## And now let's build useful messages for GPT-4o-mini, using a function"
   ]
  },
  {
   "cell_type": "code",
   "execution_count": 10,
   "id": "0134dfa4-8299-48b5-b444-f2a8c3403c88",
   "metadata": {},
   "outputs": [],
   "source": [
    "# See how this function creates exactly the format above\n",
    "\n",
    "def messages_for(website):\n",
    "    return [\n",
    "        {\"role\": \"system\", \"content\": system_prompt},\n",
    "        {\"role\": \"user\", \"content\": user_prompt_for(website)}\n",
    "    ]"
   ]
  },
  {
   "cell_type": "code",
   "execution_count": 11,
   "id": "36478464-39ee-485c-9f3f-6a4e458dbc9c",
   "metadata": {},
   "outputs": [
    {
     "data": {
      "text/plain": [
       "[{'role': 'system',\n",
       "  'content': 'You are an assistant that analyzes the contents of a website and provides a short summary, ignoring text that might be navigation related. Respond in markdown.'},\n",
       " {'role': 'user',\n",
       "  'content': 'You are looking at a website titled Home - Edward Donner\\nThe contents of this website is as follows; please provide a short summary of this website in markdown. If it includes news or announcements, then summarize these too.\\n\\nHome\\nConnect Four\\nOutsmart\\nAn arena that pits LLMs against each other in a battle of diplomacy and deviousness\\nAbout\\nPosts\\nWell, hi there.\\nI’m Ed. I like writing code and experimenting with LLMs, and hopefully you’re here because you do too. I also enjoy DJing (but I’m badly out of practice), amateur electronic music production (\\nvery\\namateur) and losing myself in\\nHacker News\\n, nodding my head sagely to things I only half understand.\\nI’m the co-founder and CTO of\\nNebula.io\\n. We’re applying AI to a field where it can make a massive, positive impact: helping people discover their potential and pursue their reason for being. Recruiters use our product today to source, understand, engage and manage talent. I’m previously the founder and CEO of AI startup untapt,\\nacquired in 2021\\n.\\nWe work with groundbreaking, proprietary LLMs verticalized for talent, we’ve\\npatented\\nour matching model, and our award-winning platform has happy customers and tons of press coverage.\\nConnect\\nwith me for more!\\nMay 28, 2025\\nConnecting my courses – become an LLM expert and leader\\nMay 18, 2025\\n2025 AI Executive Briefing\\nApril 21, 2025\\nThe Complete Agentic AI Engineering Course\\nJanuary 23, 2025\\nLLM Workshop – Hands-on with Agents – resources\\nNavigation\\nHome\\nConnect Four\\nOutsmart\\nAn arena that pits LLMs against each other in a battle of diplomacy and deviousness\\nAbout\\nPosts\\nGet in touch\\ned [at] edwarddonner [dot] com\\nwww.edwarddonner.com\\nFollow me\\nLinkedIn\\nTwitter\\nFacebook\\nSubscribe to newsletter\\nType your email…\\nSubscribe'}]"
      ]
     },
     "execution_count": 11,
     "metadata": {},
     "output_type": "execute_result"
    }
   ],
   "source": [
    "# Try this out, and then try for a few more websites\n",
    "\n",
    "messages_for(ed)"
   ]
  },
  {
   "cell_type": "markdown",
   "id": "16f49d46-bf55-4c3e-928f-68fc0bf715b0",
   "metadata": {},
   "source": [
    "## Time to bring it together - the API for OpenAI is very simple!"
   ]
  },
  {
   "cell_type": "code",
   "execution_count": 12,
   "id": "905b9919-aba7-45b5-ae65-81b3d1d78e34",
   "metadata": {},
   "outputs": [],
   "source": [
    "# And now: call the OpenAI API. You will get very familiar with this!\n",
    "\n",
    "def summarize(url):\n",
    "    website = Website(url)\n",
    "    response = openai.chat.completions.create(\n",
    "        model = \"gpt-4o-mini\",\n",
    "        messages = messages_for(website)\n",
    "    )\n",
    "    return response.choices[0].message.content"
   ]
  },
  {
   "cell_type": "code",
   "execution_count": 13,
   "id": "05e38d41-dfa4-4b20-9c96-c46ea75d9fb5",
   "metadata": {},
   "outputs": [
    {
     "data": {
      "text/plain": [
       "\"# Summary of Edward Donner's Website\\n\\nEdward Donner's website serves as a personal and professional portal showcasing his interests, expertise, and contributions in the field of artificial intelligence, particularly with language learning models (LLMs). Ed, co-founder and CTO of Nebula.io, positions his work around utilizing AI for enhancing talent management and development. His professional journey includes a previous venture, untapt, which was acquired in 2021. \\n\\n## Key Features\\n- **Personal Interests**: Ed enjoys writing code, experimenting with LLMs, DJing, and electronic music production.\\n- **Professional Background**: He has experience in leading AI initiatives, with patented technology for talent matching.\\n- **Engagement**: Encourages connection and interaction through various platforms.\\n\\n## Announcements\\n1. **Connecting my courses – become an LLM expert and leader** - May 28, 2025\\n2. **2025 AI Executive Briefing** - May 18, 2025\\n3. **The Complete Agentic AI Engineering Course** - April 21, 2025\\n4. **LLM Workshop – Hands-on with Agents – resources** - January 23, 2025\\n\\nThis website serves as a comprehensive introduction to Ed's work, his passion for AI, and opportunities for learning in the field.\""
      ]
     },
     "execution_count": 13,
     "metadata": {},
     "output_type": "execute_result"
    }
   ],
   "source": [
    "summarize(\"https://edwarddonner.com\")"
   ]
  },
  {
   "cell_type": "code",
   "execution_count": 14,
   "id": "3d926d59-450e-4609-92ba-2d6f244f1342",
   "metadata": {},
   "outputs": [],
   "source": [
    "# A function to display this nicely in the Jupyter output, using markdown\n",
    "\n",
    "def display_summary(url):\n",
    "    summary = summarize(url)\n",
    "    display(Markdown(summary))"
   ]
  },
  {
   "cell_type": "code",
   "execution_count": 15,
   "id": "3018853a-445f-41ff-9560-d925d1774b2f",
   "metadata": {},
   "outputs": [
    {
     "data": {
      "text/markdown": [
       "# Summary of Edward Donner's Website\n",
       "\n",
       "The website serves as a personal platform for Ed Donner, who is passionate about coding and experimenting with large language models (LLMs). He is the co-founder and CTO of Nebula.io, a company focused on utilizing AI to aid individuals in discovering their potential and talent management. Previously, he founded the AI startup untapt, which was acquired in 2021. \n",
       "\n",
       "The site features various offerings related to LLM expertise, including:\n",
       "\n",
       "- **Connect Four**: A platform designed for competitive LLM interactions.\n",
       "- **Outsmart**: An arena for LLMs to engage in diplomacy and strategy.\n",
       "\n",
       "## News and Announcements\n",
       "- **May 28, 2025**: Announcement about connecting courses to advance LLM expertise and leadership.\n",
       "- **May 18, 2025**: Information regarding the 2025 AI Executive Briefing.\n",
       "- **April 21, 2025**: Launch of \"The Complete Agentic AI Engineering Course.\"\n",
       "- **January 23, 2025**: LLM Workshop focused on hands-on experience with agents and available resources. \n",
       "\n",
       "For more updates or to connect, visitors are encouraged to reach out through various social media links listed on the site."
      ],
      "text/plain": [
       "<IPython.core.display.Markdown object>"
      ]
     },
     "metadata": {},
     "output_type": "display_data"
    }
   ],
   "source": [
    "display_summary(\"https://edwarddonner.com\")"
   ]
  },
  {
   "cell_type": "markdown",
   "id": "b3bcf6f4-adce-45e9-97ad-d9a5d7a3a624",
   "metadata": {},
   "source": [
    "# Let's try more websites\n",
    "\n",
    "Note that this will only work on websites that can be scraped using this simplistic approach.\n",
    "\n",
    "Websites that are rendered with Javascript, like React apps, won't show up. See the community-contributions folder for a Selenium implementation that gets around this. You'll need to read up on installing Selenium (ask ChatGPT!)\n",
    "\n",
    "Also Websites protected with CloudFront (and similar) may give 403 errors - many thanks Andy J for pointing this out.\n",
    "\n",
    "But many websites will work just fine!"
   ]
  },
  {
   "cell_type": "code",
   "execution_count": 16,
   "id": "3b2b50e3-1d8d-4632-a58a-8ca6e70927d2",
   "metadata": {},
   "outputs": [
    {
     "data": {
      "text/markdown": [
       "# Summary of The Swarm - The People and Relationship Data Leader\n",
       "\n",
       "**Overview:**\n",
       "The Swarm offers a comprehensive data platform specializing in relationship and people data. It maintains a dataset with 580 million profiles highlighting daily job changes and 100 million companies with funding information. Utilizing an AI engine, The Swarm helps users, including builders and investors, manage and analyze professional relationships effectively.\n",
       "\n",
       "**Key Features:**\n",
       "- **Real-time People Data:** Access updated profiles and job changes for 580 million individuals.\n",
       "- **Company and Fundraising Data:** Provides details on 100 million companies, tracking fundraising rounds and investor networks.\n",
       "- **Live Enrichment:** Supports real-time enrichment of up to 50,000 profiles daily.\n",
       "- **Integration Options:** Compatible with various platforms, including CRM systems like HubSpot and tools like Clay and Relay.\n",
       "\n",
       "**Products Available:**\n",
       "- **Web Application** and **Chrome Extension** for easy access to data.\n",
       "- **Swarm API** for developers to integrate data into their applications.\n",
       "- **Data documentation** for easier user onboarding.\n",
       "\n",
       "**Customer Benefits:**\n",
       "Customers report using The Swarm as a single source of truth for relationship data, improving their networking capabilities by providing warm introduction paths. Compliant with GDPR and CCPA, it emphasizes privacy and security.\n",
       "\n",
       "**Pricing Model:**\n",
       "The service offers a free 30-day trial, with individual plans starting at $29/month. The Chrome Extension is free.\n",
       "\n",
       "**Community Engagement:**\n",
       "The Swarm hosts a Go-To-Network Academy, providing resources and community support for users.\n",
       "\n",
       "**Recent News:**\n",
       "- The announcement of the **Swarm AI Network Mapper**, aimed at helping users identify and leverage their professional networks more effectively.\n",
       "\n",
       "For more information, users are encouraged to start with a free account and explore the capabilities offered by The Swarm."
      ],
      "text/plain": [
       "<IPython.core.display.Markdown object>"
      ]
     },
     "metadata": {},
     "output_type": "display_data"
    }
   ],
   "source": [
    "display_summary(\"https://www.theswarm.com\")"
   ]
  },
  {
   "cell_type": "code",
   "execution_count": 17,
   "id": "45d83403-a24c-44b5-84ac-961449b4008f",
   "metadata": {},
   "outputs": [
    {
     "data": {
      "text/markdown": [
       "# Summary of CNN Website\n",
       "\n",
       "CNN is a leading news outlet providing the latest breaking news, in-depth articles, and videos across various topics, including politics, business, health, entertainment, sports, and world events.\n",
       "\n",
       "## Recent Headlines\n",
       "- **Israel-Hamas Conflict**: A prominent Israeli human rights group has accused Israel of genocide in Gaza. Israel has declared a tactical pause in some military operations to allow humanitarian aid amid international concern over starvation in the territory.\n",
       "- **US Politics**: President Trump has announced a shortened deadline for Russia to negotiate a ceasefire over the ongoing conflict with Ukraine.\n",
       "- **International Affairs**: Thailand and Cambodia have reached a ceasefire agreement following violent clashes. Additionally, Elon Musk has finalized a substantial $16.5 billion chip deal with Samsung.\n",
       "- **Russian Military**: Reports reveal that Russian deserters are facing harsh punishments, indicating rising internal tensions within the military.\n",
       "- **Sports**: Tadej Pogačar has claimed his fourth Tour de France title, asserting his reputation in the cycling world.\n",
       "\n",
       "The site features ongoing updates on these topics, along with analysis, investigative reports, and coverage of important global events, making it a comprehensive source for news consumers."
      ],
      "text/plain": [
       "<IPython.core.display.Markdown object>"
      ]
     },
     "metadata": {},
     "output_type": "display_data"
    }
   ],
   "source": [
    "display_summary(\"https://cnn.com\")"
   ]
  },
  {
   "cell_type": "code",
   "execution_count": 18,
   "id": "75e9fd40-b354-4341-991e-863ef2e59db7",
   "metadata": {},
   "outputs": [
    {
     "data": {
      "text/markdown": [
       "# Summary of Anthropic Website\n",
       "\n",
       "Anthropic focuses on developing AI technology with an emphasis on safety and human benefit. Their primary product, Claude, is designed to facilitate various applications through advanced AI models, including Claude Opus 4 and Claude Sonnet 4, which are geared towards coding and AI agent functionalities.\n",
       "\n",
       "## Key Features:\n",
       "- **Claude Models**: Introduces Claude Opus 4 as the most intelligent AI model, capable of handling complex tasks.\n",
       "- **API Services**: Offers developers the opportunity to create customizable AI applications using Claude.\n",
       "- **Education and Resources**: Provides learning resources through the Anthropic Academy to help users effectively build with Claude.\n",
       "\n",
       "## Recent Announcements:\n",
       "- **ISO 42001 Certification**: Confirmation of receiving certification to enhance trust in their commitment to responsible AI development.\n",
       "- **Claude Opus 4 Launch**: Announcement of the latest AI model, showcasing the advancements in capabilities for coding and AI interactions.\n",
       "\n",
       "## Commitment to Safety:\n",
       "Anthropic emphasizes the importance of responsible AI development through its research initiatives, transparency policies, and a responsible scaling policy designed to consider societal impacts."
      ],
      "text/plain": [
       "<IPython.core.display.Markdown object>"
      ]
     },
     "metadata": {},
     "output_type": "display_data"
    }
   ],
   "source": [
    "display_summary(\"https://anthropic.com\")"
   ]
  },
  {
   "cell_type": "markdown",
   "id": "c951be1a-7f1b-448f-af1f-845978e47e2c",
   "metadata": {},
   "source": [
    "<table style=\"margin: 0; text-align: left;\">\n",
    "    <tr>\n",
    "        <td style=\"width: 150px; height: 150px; vertical-align: middle;\">\n",
    "            <img src=\"../business.jpg\" width=\"150\" height=\"150\" style=\"display: block;\" />\n",
    "        </td>\n",
    "        <td>\n",
    "            <h2 style=\"color:#181;\">Business applications</h2>\n",
    "            <span style=\"color:#181;\">In this exercise, you experienced calling the Cloud API of a Frontier Model (a leading model at the frontier of AI) for the first time. We will be using APIs like OpenAI at many stages in the course, in addition to building our own LLMs.\n",
    "\n",
    "More specifically, we've applied this to Summarization - a classic Gen AI use case to make a summary. This can be applied to any business vertical - summarizing the news, summarizing financial performance, summarizing a resume in a cover letter - the applications are limitless. Consider how you could apply Summarization in your business, and try prototyping a solution.</span>\n",
    "        </td>\n",
    "    </tr>\n",
    "</table>\n",
    "\n",
    "<table style=\"margin: 0; text-align: left;\">\n",
    "    <tr>\n",
    "        <td style=\"width: 150px; height: 150px; vertical-align: middle;\">\n",
    "            <img src=\"../important.jpg\" width=\"150\" height=\"150\" style=\"display: block;\" />\n",
    "        </td>\n",
    "        <td>\n",
    "            <h2 style=\"color:#900;\">Before you continue - now try yourself</h2>\n",
    "            <span style=\"color:#900;\">Use the cell below to make your own simple commercial example. Stick with the summarization use case for now. Here's an idea: write something that will take the contents of an email, and will suggest an appropriate short subject line for the email. That's the kind of feature that might be built into a commercial email tool.</span>\n",
    "        </td>\n",
    "    </tr>\n",
    "</table>"
   ]
  },
  {
   "cell_type": "code",
   "execution_count": 19,
   "id": "00743dac-0e70-45b7-879a-d7293a6f68a6",
   "metadata": {},
   "outputs": [],
   "source": [
    "# Step 1: Create your prompts\n",
    "\n",
    "def create_prompt(email_text):\n",
    "    system_prompt = \"You are an assistant that analyzes the contents of a email \\\n",
    "and provides the best matching title for it. Generate output as text\"\n",
    "    user_prompt = f\"\"\"\n",
    "The content of the email is as follows: {email_text}. Please help me create a title for it.\n",
    "\"\"\"\n",
    "    return [\n",
    "        {\"role\": \"system\", \"content\": system_prompt},\n",
    "        {\"role\": \"user\", \"content\": user_prompt}\n",
    "    ]\n",
    "\n",
    "# Step 2: Make the messages list\n",
    "\n",
    "messages = [\"Hi everyone, Just a quick reminder that we need to finish the presentation for Client X by Friday. Please send me your sections by the end of the day on Wednesday so I can compile and review everything. Thanks for your hard work! Best regards, Anna\",\n",
    "           \"You're invited! Join us on Thursday, September 12th for a special evening celebrating our 10th anniversary. Enjoy drinks, appetizers, and a look back at our journey. Location: Rooftop Bar, City Center Time: 7:00 PM\"] \n"
   ]
  },
  {
   "cell_type": "code",
   "execution_count": 20,
   "id": "1e543e68-1c33-4bdf-b4b1-6d351eb3da2f",
   "metadata": {},
   "outputs": [],
   "source": [
    "\n",
    "# Step 3: Call OpenAI\n",
    "\n",
    "def call_api(email_text):\n",
    "    response = openai.chat.completions.create(\n",
    "        model = \"gpt-4o-mini\",\n",
    "        messages = create_prompt(email_text)\n",
    "    )\n",
    "    return response.choices[0].message.content\n"
   ]
  },
  {
   "cell_type": "code",
   "execution_count": 21,
   "id": "d2260ade-ad47-498b-aec1-4364da144d11",
   "metadata": {},
   "outputs": [
    {
     "name": "stdout",
     "output_type": "stream",
     "text": [
      "Reminder: Presentation Deadline for Client X by Friday\n"
     ]
    }
   ],
   "source": [
    "# Step 4: print the result\n",
    "\n",
    "print(call_api(messages[0]))"
   ]
  },
  {
   "cell_type": "code",
   "execution_count": 22,
   "id": "fae6a272-c816-45b0-af39-47ab9722c4a9",
   "metadata": {},
   "outputs": [
    {
     "name": "stdout",
     "output_type": "stream",
     "text": [
      "\"You're Invited: Celebrate Our 10th Anniversary!\"\n"
     ]
    }
   ],
   "source": [
    "print(call_api(messages[1]))"
   ]
  },
  {
   "cell_type": "markdown",
   "id": "36ed9f14-b349-40e9-a42c-b367e77f8bda",
   "metadata": {},
   "source": [
    "## An extra exercise for those who enjoy web scraping\n",
    "\n",
    "You may notice that if you try `display_summary(\"https://openai.com\")` - it doesn't work! That's because OpenAI has a fancy website that uses Javascript. There are many ways around this that some of you might be familiar with. For example, Selenium is a hugely popular framework that runs a browser behind the scenes, renders the page, and allows you to query it. If you have experience with Selenium, Playwright or similar, then feel free to improve the Website class to use them. In the community-contributions folder, you'll find an example Selenium solution from a student (thank you!)"
   ]
  },
  {
   "cell_type": "code",
   "execution_count": 23,
   "id": "7878c6c8-13c8-47e8-a98b-466923c8c4ca",
   "metadata": {},
   "outputs": [
    {
     "data": {
      "text/markdown": [
       "# OpenAI Website Summary\n",
       "\n",
       "OpenAI's website provides a comprehensive overview of the company's products, research initiatives, and solutions in artificial intelligence. It features sections dedicated to:\n",
       "\n",
       "- **ChatGPT:** A conversational AI platform, including new updates for business plans with enhanced security and integration options.\n",
       "- **Sora:** A platform with various features aimed at leveraging AI capabilities.\n",
       "- **API Platform:** Information on API offerings, documentation, and pricing for developers.\n",
       "- **Research:** Insights into ongoing and published research, including advancements in AI that are relevant to safety and healthcare.\n",
       "\n",
       "## Key Announcements\n",
       "\n",
       "1. **Updates to ChatGPT Business Plans:** New features include internal tools integration and flexible pricing models.\n",
       "   \n",
       "2. **Introduction of ChatGPT Agent:** A newly introduced product aimed at enhancing user interaction with AI.\n",
       "\n",
       "3. **OpenAI DevDay 2025:** An announced event focused on showcasing developments in AI technology.\n",
       "\n",
       "4. **Collaborations and Projects:**\n",
       "   - A partnership with Oracle to enhance Stargate's capabilities.\n",
       "   - Engaging with Mattel to develop AI applications for their brands.\n",
       "   - A project that aims to create a pioneering AI clinical copilot in conjunction with Penda Health.\n",
       "\n",
       "5. **Safety and Security Initiatives:**\n",
       "   - Addressing AI risks in various domains, including biology and security.\n",
       "   - Committing to responsible disclosure practices to bolster user privacy.\n",
       "\n",
       "The site also contains a variety of stories and research updates, underpinning OpenAI's commitment to advancing AI research while ensuring ethical implications are considered."
      ],
      "text/plain": [
       "<IPython.core.display.Markdown object>"
      ]
     },
     "metadata": {},
     "output_type": "display_data"
    }
   ],
   "source": [
    "display_summary(\"https://openai.com\")"
   ]
  },
  {
   "cell_type": "code",
   "execution_count": 24,
   "id": "12a64751-b537-4901-900b-d50ec56dce55",
   "metadata": {},
   "outputs": [],
   "source": [
    "from selenium import webdriver\n",
    "from selenium.webdriver.chrome.options import Options\n",
    "from bs4 import BeautifulSoup\n",
    "import time\n",
    "\n",
    "class Website:\n",
    "\n",
    "    def __init__(self, url):\n",
    "        \"\"\"\n",
    "        Create this Website object from the given url using Selenium and BeautifulSoup\n",
    "        \"\"\"\n",
    "        self.url = url\n",
    "\n",
    "        options = Options()\n",
    "        options.add_argument(\"--headless\") \n",
    "        options.add_argument(\"user-agent=Mozilla/5.0 (Windows NT 10.0; Win64; x64) AppleWebKit/537.36 (KHTML, like Gecko) Chrome/117.0.0.0 Safari/537.36\")\n",
    "\n",
    "\n",
    "        driver = webdriver.Chrome(options=options)\n",
    "        driver.get(url)\n",
    "        time.sleep(2)  \n",
    "        soup = BeautifulSoup(driver.page_source, 'html.parser')\n",
    "        driver.quit()\n",
    "\n",
    "        self.title = soup.title.string if soup.title else \"No title found\"\n",
    "\n",
    "        if soup.body:\n",
    "            for irrelevant in soup.body([\"script\", \"style\", \"img\", \"input\"]):\n",
    "                irrelevant.decompose()\n",
    "            self.text = soup.body.get_text(separator=\"\\n\", strip=True)\n",
    "        else:\n",
    "            self.text = \"No body content found\"\n"
   ]
  },
  {
   "cell_type": "code",
   "execution_count": 25,
   "id": "13db618f-47de-451a-8ca3-df2a3760113e",
   "metadata": {},
   "outputs": [
    {
     "data": {
      "text/markdown": [
       "# OpenAI Website Summary\n",
       "\n",
       "The OpenAI website showcases its advancements in artificial intelligence, including multiple products like ChatGPT and Sora. It features an API platform, research initiatives, corporate information, and various solutions for businesses. \n",
       "\n",
       "## Key Features:\n",
       "- **Product Offerings**: Details on ChatGPT, Sora, and the API platform with pricing information.\n",
       "- **Research**: Information on ongoing advancements and publications, highlighting notable projects and initiatives.\n",
       "  \n",
       "## Latest News and Announcements:\n",
       "- **OpenAI DevDay 2025**: Announcement to present new developments (Date: upcoming event in 2025).\n",
       "- **Letter from Leadership**: Insights from Sam and Jony about the company's direction.\n",
       "- **Recent Collaborations**:\n",
       "  - **Stargate and Oracle**: Partnership announcement aimed at utilizing AI capabilities (Date: July 22, 2025).\n",
       "  - **AI in Biology**: Preparation for addressing AI-related risks in the biological field (Date: June 18, 2025).\n",
       "  - **Mattel Collaboration**: Partnership to integrate AI into Mattel’s products (Date: June 12, 2025).\n",
       "  - **Security Enhancements**: Commitment to responsible disclosure in AI security (Date: June 9, 2025).\n",
       "  \n",
       "This website emphasizes OpenAI's mission to empower through AI while ensuring safety, security, and transparency across all its offerings."
      ],
      "text/plain": [
       "<IPython.core.display.Markdown object>"
      ]
     },
     "metadata": {},
     "output_type": "display_data"
    }
   ],
   "source": [
    "display_summary(\"https://openai.com\")"
   ]
  }
 ],
 "metadata": {
  "kernelspec": {
   "display_name": "Python 3 (ipykernel)",
   "language": "python",
   "name": "python3"
  },
  "language_info": {
   "codemirror_mode": {
    "name": "ipython",
    "version": 3
   },
   "file_extension": ".py",
   "mimetype": "text/x-python",
   "name": "python",
   "nbconvert_exporter": "python",
   "pygments_lexer": "ipython3",
   "version": "3.11.13"
  }
 },
 "nbformat": 4,
 "nbformat_minor": 5
}
